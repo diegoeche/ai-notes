{
 "cells": [
  {
   "cell_type": "code",
   "execution_count": 60,
   "metadata": {},
   "outputs": [],
   "source": [
    "import torch\n",
    "import torch.nn.functional as F\n",
    "import matplotlib.pyplot as plt # for making figures\n",
    "%matplotlib inline"
   ]
  },
  {
   "cell_type": "code",
   "execution_count": 61,
   "metadata": {},
   "outputs": [
    {
     "data": {
      "text/plain": [
       "['adalbert',\n",
       " 'adaldrida',\n",
       " 'adalgar',\n",
       " 'adalgrim',\n",
       " 'adamanta',\n",
       " 'adanel',\n",
       " 'adelard',\n",
       " 'adrahil']"
      ]
     },
     "execution_count": 61,
     "metadata": {},
     "output_type": "execute_result"
    }
   ],
   "source": [
    "# read in all the words\n",
    "words = open('lotr_names.txt', 'r').read().splitlines()\n",
    "words[:8]"
   ]
  },
  {
   "cell_type": "code",
   "execution_count": 62,
   "metadata": {},
   "outputs": [
    {
     "data": {
      "text/plain": [
       "839"
      ]
     },
     "execution_count": 62,
     "metadata": {},
     "output_type": "execute_result"
    }
   ],
   "source": [
    "len(words)"
   ]
  },
  {
   "cell_type": "code",
   "execution_count": 63,
   "metadata": {},
   "outputs": [
    {
     "name": "stdout",
     "output_type": "stream",
     "text": [
      "{1: 'a', 2: 'b', 3: 'c', 4: 'd', 5: 'e', 6: 'f', 7: 'g', 8: 'h', 9: 'i', 10: 'j', 11: 'k', 12: 'l', 13: 'm', 14: 'n', 15: 'o', 16: 'p', 17: 'r', 18: 's', 19: 't', 20: 'u', 21: 'v', 22: 'w', 23: 'x', 24: 'y', 25: 'z', 26: 'á', 27: 'â', 28: 'ä', 29: 'é', 30: 'ê', 31: 'ë', 32: 'í', 33: 'î', 34: 'ó', 35: 'ö', 36: 'ú', 37: 'û', 0: '.'}\n"
     ]
    }
   ],
   "source": [
    "# build the vocabulary of characters and mappings to/from integers\n",
    "chars = sorted(list(set(''.join(words))))\n",
    "stoi = {s:i+1 for i,s in enumerate(chars)}\n",
    "stoi['.'] = 0\n",
    "itos = {i:s for s,i in stoi.items()}\n",
    "print(itos)"
   ]
  },
  {
   "cell_type": "code",
   "execution_count": 64,
   "metadata": {},
   "outputs": [],
   "source": [
    "# build the dataset\n",
    "\n",
    "block_size = 3 # context length: how many characters do we take to predict the next one?\n",
    "X, Y = [], []\n",
    "for w in words:\n",
    "  \n",
    "  #print(w)\n",
    "  context = [0] * block_size\n",
    "  for ch in w + '.':\n",
    "    ix = stoi[ch]\n",
    "    X.append(context)\n",
    "    Y.append(ix)\n",
    "    #print(''.join(itos[i] for i in context), '--->', itos[ix])\n",
    "    context = context[1:] + [ix] # crop and append\n",
    "  \n",
    "X = torch.tensor(X)\n",
    "Y = torch.tensor(Y)"
   ]
  },
  {
   "cell_type": "code",
   "execution_count": 65,
   "metadata": {},
   "outputs": [
    {
     "data": {
      "text/plain": [
       "(torch.Size([6179, 3]), torch.int64, torch.Size([6179]), torch.int64)"
      ]
     },
     "execution_count": 65,
     "metadata": {},
     "output_type": "execute_result"
    }
   ],
   "source": [
    "X.shape, X.dtype, Y.shape, Y.dtype"
   ]
  },
  {
   "cell_type": "code",
   "execution_count": 66,
   "metadata": {},
   "outputs": [
    {
     "name": "stdout",
     "output_type": "stream",
     "text": [
      "torch.Size([4952, 3]) torch.Size([4952])\n",
      "torch.Size([623, 3]) torch.Size([623])\n",
      "torch.Size([604, 3]) torch.Size([604])\n"
     ]
    }
   ],
   "source": [
    "# build the dataset\n",
    "block_size = 3 # context length: how many characters do we take to predict the next one?\n",
    "\n",
    "def build_dataset(words):  \n",
    "  X, Y = [], []\n",
    "  for w in words:\n",
    "\n",
    "    #print(w)\n",
    "    context = [0] * block_size\n",
    "    for ch in w + '.':\n",
    "      ix = stoi[ch]\n",
    "      X.append(context)\n",
    "      Y.append(ix)\n",
    "      #print(''.join(itos[i] for i in context), '--->', itos[ix])\n",
    "      context = context[1:] + [ix] # crop and append\n",
    "\n",
    "  X = torch.tensor(X)\n",
    "  Y = torch.tensor(Y)\n",
    "  print(X.shape, Y.shape)\n",
    "  return X, Y\n",
    "\n",
    "import random\n",
    "random.seed(42)\n",
    "random.shuffle(words)\n",
    "n1 = int(0.8*len(words))\n",
    "n2 = int(0.9*len(words))\n",
    "\n",
    "Xtr, Ytr = build_dataset(words[:n1])\n",
    "Xdev, Ydev = build_dataset(words[n1:n2])\n",
    "Xte, Yte = build_dataset(words[n2:])\n"
   ]
  },
  {
   "cell_type": "code",
   "execution_count": 67,
   "metadata": {},
   "outputs": [],
   "source": [
    "C = torch.randn((len(itos), 2))"
   ]
  },
  {
   "cell_type": "code",
   "execution_count": 68,
   "metadata": {},
   "outputs": [
    {
     "data": {
      "text/plain": [
       "torch.Size([6179, 3, 2])"
      ]
     },
     "execution_count": 68,
     "metadata": {},
     "output_type": "execute_result"
    }
   ],
   "source": [
    "emb = C[X]\n",
    "emb.shape"
   ]
  },
  {
   "cell_type": "code",
   "execution_count": 69,
   "metadata": {},
   "outputs": [],
   "source": [
    "W1 = torch.randn((6, 100))\n",
    "b1 = torch.randn(100)"
   ]
  },
  {
   "cell_type": "code",
   "execution_count": 70,
   "metadata": {},
   "outputs": [],
   "source": [
    "h = torch.tanh(emb.view(-1, 6) @ W1 + b1)"
   ]
  },
  {
   "cell_type": "code",
   "execution_count": 71,
   "metadata": {},
   "outputs": [
    {
     "data": {
      "text/plain": [
       "tensor([[ 0.9306,  0.0479, -0.9624,  ...,  0.3417,  0.9957, -0.9755],\n",
       "        [-0.8967,  0.9961, -0.9989,  ..., -0.3059,  0.5874, -0.9955],\n",
       "        [ 0.9658,  0.9665,  0.9407,  ..., -0.7954, -0.8504, -0.3501],\n",
       "        ...,\n",
       "        [ 0.9686,  0.4983, -0.9900,  ..., -0.6950,  0.9990, -0.9943],\n",
       "        [-0.8967,  1.0000, -0.9893,  ..., -0.9320, -0.9907, -1.0000],\n",
       "        [ 1.0000,  0.9647, -0.9999,  ..., -0.9570,  0.9995, -0.9997]])"
      ]
     },
     "execution_count": 71,
     "metadata": {},
     "output_type": "execute_result"
    }
   ],
   "source": [
    "h"
   ]
  },
  {
   "cell_type": "code",
   "execution_count": 72,
   "metadata": {},
   "outputs": [
    {
     "data": {
      "text/plain": [
       "torch.Size([6179, 100])"
      ]
     },
     "execution_count": 72,
     "metadata": {},
     "output_type": "execute_result"
    }
   ],
   "source": [
    "h.shape"
   ]
  },
  {
   "cell_type": "code",
   "execution_count": 73,
   "metadata": {},
   "outputs": [],
   "source": [
    "W2 = torch.randn((100, len(itos)))\n",
    "b2 = torch.randn(len(itos))"
   ]
  },
  {
   "cell_type": "code",
   "execution_count": 74,
   "metadata": {},
   "outputs": [],
   "source": [
    "logits = h @ W2 + b2"
   ]
  },
  {
   "cell_type": "code",
   "execution_count": 75,
   "metadata": {},
   "outputs": [
    {
     "data": {
      "text/plain": [
       "torch.Size([6179, 38])"
      ]
     },
     "execution_count": 75,
     "metadata": {},
     "output_type": "execute_result"
    }
   ],
   "source": [
    "logits.shape"
   ]
  },
  {
   "cell_type": "code",
   "execution_count": 76,
   "metadata": {},
   "outputs": [],
   "source": [
    "counts = logits.exp()"
   ]
  },
  {
   "cell_type": "code",
   "execution_count": 77,
   "metadata": {},
   "outputs": [],
   "source": [
    "prob = counts / counts.sum(1, keepdims=True)"
   ]
  },
  {
   "cell_type": "code",
   "execution_count": 78,
   "metadata": {},
   "outputs": [
    {
     "data": {
      "text/plain": [
       "torch.Size([6179, 38])"
      ]
     },
     "execution_count": 78,
     "metadata": {},
     "output_type": "execute_result"
    }
   ],
   "source": [
    "prob.shape"
   ]
  },
  {
   "cell_type": "code",
   "execution_count": 79,
   "metadata": {},
   "outputs": [
    {
     "data": {
      "text/plain": [
       "tensor(19.7990)"
      ]
     },
     "execution_count": 79,
     "metadata": {},
     "output_type": "execute_result"
    }
   ],
   "source": [
    "loss = -prob[torch.arange(prob.shape[0]), Y].log().mean()\n",
    "loss"
   ]
  },
  {
   "cell_type": "code",
   "execution_count": 80,
   "metadata": {},
   "outputs": [],
   "source": [
    "# ------------ now made respectable :) ---------------"
   ]
  },
  {
   "cell_type": "code",
   "execution_count": 81,
   "metadata": {},
   "outputs": [
    {
     "data": {
      "text/plain": [
       "(torch.Size([4952, 3]), torch.Size([4952]))"
      ]
     },
     "execution_count": 81,
     "metadata": {},
     "output_type": "execute_result"
    }
   ],
   "source": [
    "Xtr.shape, Ytr.shape # dataset"
   ]
  },
  {
   "cell_type": "code",
   "execution_count": 96,
   "metadata": {},
   "outputs": [],
   "source": [
    "g = torch.Generator().manual_seed(2147483647) # for reproducibility\n",
    "C = torch.randn((len(itos), 10), generator=g)\n",
    "W1 = torch.randn((30, 200), generator=g)\n",
    "b1 = torch.randn(200, generator=g)\n",
    "W2 = torch.randn((200, len(itos)), generator=g)\n",
    "b2 = torch.randn(len(itos), generator=g)\n",
    "parameters = [C, W1, b1, W2, b2]"
   ]
  },
  {
   "cell_type": "code",
   "execution_count": 97,
   "metadata": {},
   "outputs": [
    {
     "data": {
      "text/plain": [
       "14218"
      ]
     },
     "execution_count": 97,
     "metadata": {},
     "output_type": "execute_result"
    }
   ],
   "source": [
    "sum(p.nelement() for p in parameters) # number of parameters in total"
   ]
  },
  {
   "cell_type": "code",
   "execution_count": 98,
   "metadata": {},
   "outputs": [],
   "source": [
    "for p in parameters:\n",
    "  p.requires_grad = True"
   ]
  },
  {
   "cell_type": "code",
   "execution_count": 99,
   "metadata": {},
   "outputs": [],
   "source": [
    "lre = torch.linspace(-3, 0, 1000)\n",
    "lrs = 10**lre"
   ]
  },
  {
   "cell_type": "code",
   "execution_count": 100,
   "metadata": {},
   "outputs": [],
   "source": [
    "lri = []\n",
    "lossi = []\n",
    "stepi = []"
   ]
  },
  {
   "cell_type": "code",
   "execution_count": 101,
   "metadata": {},
   "outputs": [
    {
     "data": {
      "text/plain": [
       "38"
      ]
     },
     "execution_count": 101,
     "metadata": {},
     "output_type": "execute_result"
    }
   ],
   "source": [
    "len(itos)"
   ]
  },
  {
   "cell_type": "code",
   "execution_count": 102,
   "metadata": {},
   "outputs": [],
   "source": [
    "for i in range(200000):\n",
    "  \n",
    "  # minibatch construct\n",
    "  ix = torch.randint(0, Xtr.shape[0], (len(itos),))\n",
    "  \n",
    "  # forward pass\n",
    "  emb = C[Xtr[ix]] # (32, 3, 10)\n",
    "  h = torch.tanh(emb.view(-1, 30) @ W1 + b1) # (32, 200)\n",
    "  logits = h @ W2 + b2 # (32, 27)\n",
    "  loss = F.cross_entropy(logits, Ytr[ix])\n",
    "  #print(loss.item())\n",
    "  \n",
    "  # backward pass\n",
    "  for p in parameters:\n",
    "    p.grad = None\n",
    "  loss.backward()\n",
    "  \n",
    "  # update\n",
    "  #lr = lrs[i]\n",
    "  lr = 0.1 if i < 100000 else 0.01\n",
    "  for p in parameters:\n",
    "    p.data += -lr * p.grad\n",
    "\n",
    "  # track stats\n",
    "  #lri.append(lre[i])\n",
    "  stepi.append(i)\n",
    "  lossi.append(loss.log10().item())\n",
    "\n",
    "#print(loss.item())"
   ]
  },
  {
   "cell_type": "code",
   "execution_count": 103,
   "metadata": {},
   "outputs": [
    {
     "data": {
      "text/plain": [
       "[<matplotlib.lines.Line2D at 0x7f729aa40e80>]"
      ]
     },
     "execution_count": 103,
     "metadata": {},
     "output_type": "execute_result"
    },
    {
     "data": {
      "image/png": "[encoded data removed]",
      "text/plain": [
       "<Figure size 640x480 with 1 Axes>"
      ]
     },
     "metadata": {},
     "output_type": "display_data"
    }
   ],
   "source": [
    "plt.plot(stepi, lossi)"
   ]
  },
  {
   "cell_type": "code",
   "execution_count": 104,
   "metadata": {},
   "outputs": [
    {
     "data": {
      "text/plain": [
       "tensor(1.1615, grad_fn=<NllLossBackward0>)"
      ]
     },
     "execution_count": 104,
     "metadata": {},
     "output_type": "execute_result"
    }
   ],
   "source": [
    "emb = C[Xtr] # (32, 3, 2)\n",
    "h = torch.tanh(emb.view(-1, 30) @ W1 + b1) # (32, 100)\n",
    "logits = h @ W2 + b2 # (32, 27)\n",
    "loss = F.cross_entropy(logits, Ytr)\n",
    "loss"
   ]
  },
  {
   "cell_type": "code",
   "execution_count": 105,
   "metadata": {},
   "outputs": [
    {
     "data": {
      "text/plain": [
       "tensor(4.0321, grad_fn=<NllLossBackward0>)"
      ]
     },
     "execution_count": 105,
     "metadata": {},
     "output_type": "execute_result"
    }
   ],
   "source": [
    "emb = C[Xdev] # (32, 3, 2)\n",
    "h = torch.tanh(emb.view(-1, 30) @ W1 + b1) # (32, 100)\n",
    "logits = h @ W2 + b2 # (32, 27)\n",
    "loss = F.cross_entropy(logits, Ydev)\n",
    "loss"
   ]
  },
  {
   "cell_type": "code",
   "execution_count": 106,
   "metadata": {},
   "outputs": [
    {
     "data": {
      "image/png": "[encoded data removed]",
      "text/plain": [
       "<Figure size 800x800 with 1 Axes>"
      ]
     },
     "metadata": {},
     "output_type": "display_data"
    }
   ],
   "source": [
    "# visualize dimensions 0 and 1 of the embedding matrix C for all characters\n",
    "plt.figure(figsize=(8,8))\n",
    "plt.scatter(C[:,0].data, C[:,1].data, s=200)\n",
    "for i in range(C.shape[0]):\n",
    "    plt.text(C[i,0].item(), C[i,1].item(), itos[i], ha=\"center\", va=\"center\", color='white')\n",
    "plt.grid('minor')"
   ]
  },
  {
   "cell_type": "code",
   "execution_count": null,
   "metadata": {},
   "outputs": [],
   "source": [
    "# training split, dev/validation split, test split\n",
    "# 80%, 10%, 10%"
   ]
  },
  {
   "cell_type": "code",
   "execution_count": 93,
   "metadata": {},
   "outputs": [
    {
     "data": {
      "text/plain": [
       "torch.Size([1, 3, 10])"
      ]
     },
     "execution_count": 93,
     "metadata": {},
     "output_type": "execute_result"
    }
   ],
   "source": [
    "context = [0] * block_size\n",
    "C[torch.tensor([context])].shape"
   ]
  },
  {
   "cell_type": "code",
   "execution_count": 43,
   "metadata": {},
   "outputs": [
    {
     "name": "stdout",
     "output_type": "stream",
     "text": [
      "khojzhgvzoáwxuht.\n",
      "korht.\n",
      "kkfkksnvhddsáthwzzhjkdiyjzsnvyjkczntsrht.\n",
      "kkfkksnnywzmhjkuiyjzsnvyjnhgvzoáwxvhjszhczztexzltovhoáxidigdzyáwkhhjkzikkovhoáxidigdzyáwkhhjkdokhdnetexgmuiofwxouht.\n",
      "kkfkcowxiyuzyfwxowtwcwkhhjkshywkkhgkbznsshthxjkhgkbdnsáccwnhgvzoáwxvcowxuhtlsunyjkczntsrht.\n",
      "khfckzfkjszhczzhjkigkzojwxhyázságuhyjzshguryxcxzhthwzzhjkdoexiduetjshgvzoáwxvhjszhczztexdktjshgvzoáwxuht.\n",
      "kkhgkbdnsáccwnhgvzoáwxuhtlkdiyjzsnvhddsáwxuht.\n",
      "kkfkksnnywzmhjkdokhdneteyjkczndjehgkbdnsáccwnhgvzoáwxuhtlsunyxuetjshgvzoáwxuhtlkdiyjzsnvyjkczntsrht.\n",
      "khcczhgvzsshthxjkficbetssmhokzsnvhoáxidigdzyáwkhhjkdgyzzoadiddythwzzhddsexaejkhgkbdnsáoahyjzsngueyjkczntsrht.\n",
      "khfckzfkhojzigdzyáwkhhjkshywkkhgkbdnsáccwnhgvzoáwxvcowxiyuzyfwxowtwxiyuzyfwxowtwcwwzhczzthwzzhjkdokhdnetexgmuiofwxuhtlshcgfccamhjáigkzojwxvcozhthxzdzshgvzoáwxvcowxuhtlshcgfzzoaddsáwxvcowxuhtlodvhjszhczzthwzzhjkdokhinekkhgkbdnsákhojxiduetjshgvzoáwxuhtlsfvcozhthodiddadiddadiddythwzzhjkdiyjzsnvyjkczntsrht.\n",
      "khfckzfkcozhthwzzhjkdokhdneteyjkczntsnthyjzsnvhddsxvxddtexgkhsákhojxidigdzyáwkhhjkuiyjzsnvhddsáwxuhtlkdjywccwnhgvzoáwxuhtlshcgfcczhgvzoáwxvcowxiyfkcozhthxjkfickkhgkbdnsáccwnhgvzoáwxvhjszhczzthwzzhjkdiyjzsnvhddsexaejkhgkbdnsáccwnhgvzoáwxvhjszhczztexgmuiofwzshgvzoáwxvhjszhczztexgmuiofwzshgvzoáwxuhtexgmuioexiduetjshgvzoáwzzhjkzrhjszhczszhczztexgmuiofwzshgvzoáwxvcozhthfzzoadiddadiddadiddadiddythwzzhjkhgkbdnsáccwnhgvzoáwxvcozhthojzhgvzoáwxvcowxuht.\n",
      "khojzigdzyáwkhhjkigkozndjehgkbdnsávcowxuhtlshywzmhjkdoexiddythwzzhjkdoexidikdiyjzsnvyjkczntsrhdfxwkhhjkdgyheozhthfzzoadiddythwzzhjkdokhmldokhmldokhdneteyjkczntswxchwzzcoet.\n",
      "kkfkzojwxhyázsajdiyjzshgubyjzshgvzoáwxvhjszhczztáwzzczhgvzoáwxvcowxiyuzyfwxuhtlsjkhgkbdnetexgmuiojzhgvzoáwzhczztexgmuiofwxaetzythwzzcoetzythwzzhdzsávcowxidigdzyáwkhhjkdoexidigdzyáwkhhjkdoexiduetjshgdftnythwzzhdzshglbdnetexguhyjzsnvodsexaejkziyfkcozhthxjkhgkbdnsáccwnhgvzoáwxvcozhthodzdiejowethxjxzhthwzzhjkdokhdnetexgmuiofwxuhtexgmuiofwzshgvzoáwxvcowxiyfkksnvyjkczntsrht.\n",
      "kkfkzsnvhddsyjhthodzddddddythwzzcozhthxjxuhtlshcgfcczhgvzoáwxvcowxiyuzyfwxowtmcjkhgkbznsshthojzhgvzoáwxuhtlsfvcowxiyuzyfwxuhtlodvhjszhczztexgmuiofwxowtwcwkhhozzzsávcozhthodzdiejozhthojxigdzyáwkhhjkdgyzzságuhyjzsnvyjkczntsrht.\n",
      "kkkdaadjdzhdzshgvzoáwxvhjszhczzhjkdoexiduetjshgvzoáwxvcozhthodzshguzyfwxowtmcjskcozhthojzhgvzoáwzzcoexidiyjzsnvyjkczntsnthyjzsnvyjkcznvshthojzhgvzoáwxvcowxiekkoontdymhouzyfwxuhtlshcgfccamhjáigkzojzhgvzoáwxvcowxuhtlshcgfcczhgvzoáwxvcowxuhtlkdiyjzsnvhddsxvxddtexgmuiofwzshgvzoáwxvcowxiduetjshgvzoáwxvhjszhczztexgmuiofwxowtwcwwzhczzhjkuiyjzsnvyjkczntsrht.\n",
      "khojzhgvzoáwxuht.\n",
      "kkfbubsjkhgkbdnsáccwnhgvzoáwxvcowxiyuzyfwxowtwcwkhhjkziyfkksnnywzmhjszhczzthwzzcozhthodzdiejozhthxjxuhtlshywzmhjáigkzojxidigdiddythwzzhadiddythwzzhjkdiyjzsnvhddsexaejjzhgvzoáwxvcowxuhtlkdjywhkhsnsávcowxuht.\n",
      "khcczhgvzoáwxvcowxuhtlkdoexidiyjzsnvhddsexaejkhgkbdnsáccwnhgvzoáwxvhjszhczxcwkhhozzzsávcowxuht.\n",
      "khfckzfkjszhczxcwxvcowxuhtlkdjywcchmijszhczzthwzzhvhsákhojzhgvzoáwxvhjszhczztexgmuiojzhgvzoáwxuhtlkdjywcchmijszhczzthwzzcadfxwkhhozzzsávcowxuht.\n",
      "khfckzfkjszhczzthwzzhdzsávcowxiyuzyfwxowtmcjskhojxigdzyáwkhhjkdokhdneteyjkczntsrht.\n"
     ]
    }
   ],
   "source": [
    "\n",
    "\n",
    "# sample from the model\n",
    "g = torch.Generator().manual_seed(2147483647)\n",
    "\n",
    "for _ in range(20):\n",
    "    \n",
    "    out = []\n",
    "    context = [0] * block_size # initialize with all ...\n",
    "    while True:\n",
    "      emb = C[torch.tensor([context])] # (1,block_size,d)\n",
    "      h = torch.tanh(emb.view(1, -1) @ W1 + b1)\n",
    "      logits = h @ W2 + b2\n",
    "      probs = F.softmax(logits, dim=1)\n",
    "      ix = torch.multinomial(probs, num_samples=1, generator=g).item()\n",
    "      context = context[1:] + [ix]\n",
    "      out.append(ix)\n",
    "      if ix == 0:\n",
    "        break\n",
    "    \n",
    "    print(''.join(itos[i] for i in out))"
   ]
  },
  {
   "cell_type": "code",
   "execution_count": null,
   "metadata": {},
   "outputs": [],
   "source": []
  }
 ],
 "metadata": {
  "kernelspec": {
   "display_name": "Python 3 (ipykernel)",
   "language": "python",
   "name": "python3"
  },
  "language_info": {
   "codemirror_mode": {
    "name": "ipython",
    "version": 3
   },
   "file_extension": ".py",
   "mimetype": "text/x-python",
   "name": "python",
   "nbconvert_exporter": "python",
   "pygments_lexer": "ipython3",
   "version": "3.10.12"
  }
 },
 "nbformat": 4,
 "nbformat_minor": 4
}
